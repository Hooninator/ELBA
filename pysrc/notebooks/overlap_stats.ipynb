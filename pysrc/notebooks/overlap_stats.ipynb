{
 "cells": [
  {
   "cell_type": "code",
   "execution_count": 2,
   "metadata": {
    "pycharm": {
     "is_executing": false
    }
   },
   "outputs": [],
   "source": [
    "from Bio import SeqIO\n",
    "import csv\n",
    "import numpy as np\n",
    "import functools\n",
    "import operator"
   ]
  },
  {
   "cell_type": "code",
   "execution_count": 3,
   "metadata": {
    "pycharm": {
     "is_executing": false
    }
   },
   "outputs": [],
   "source": [
    "overlaps_fname = '/Users/esaliya/sali/data/scope/uniqs/all/overlaps/head_100_of_k6.overlaps.txt'\n",
    "seqs_fname = '/Users/esaliya/sali/data/scope/uniqs/all/77040_unique_of_243813_astral-scopedom-seqres-gd-all-2.07-stable.fa'"
   ]
  },
  {
   "cell_type": "code",
   "execution_count": 4,
   "outputs": [],
   "source": [
    "# All super-families dictionary. Each super family entry will have list,\n",
    "# where the first element is the number of families in it and the second\n",
    "# is a dictionary for each of its families (family name -> sequence count in family).\n",
    "all_sfs = {}\n",
    "fam_names = []\n",
    "sf_names = []\n",
    "limit = 'all'\n",
    "with open(seqs_fname, \"r\") as seqf:\n",
    "    count = 0\n",
    "    for record in SeqIO.parse(seqf, \"fasta\"):\n",
    "        if count != 'all' and count == limit:\n",
    "            break\n",
    "        l_idx = record.description.index(\" \")\n",
    "        r_idx = record.description.index(\" \", l_idx+1)\n",
    "        cls, fold, sf, fam = record.description[l_idx: r_idx].split('.')\n",
    "        fam_names.append(fam)\n",
    "        sf_names.append(sf)\n",
    "        if sf in all_sfs:\n",
    "            sf_fams = all_sfs[sf][1]\n",
    "            if fam in sf_fams:\n",
    "                sf_fams[fam] += 1\n",
    "            else:\n",
    "                sf_fams[fam] = 1\n",
    "            all_sfs[sf][0] += 1\n",
    "        else:\n",
    "            all_sfs[sf] = [1, {fam: 1}]\n",
    "\n",
    "        count += 1"
   ],
   "metadata": {
    "collapsed": false,
    "pycharm": {
     "name": "#%%\n",
     "is_executing": false
    }
   }
  },
  {
   "cell_type": "code",
   "execution_count": 17,
   "outputs": [
    {
     "name": "stdout",
     "text": [
      "Num super families:  61\nNum families:  436\n[17082 21559  6851  2625  1722   581   423   223  1225   546  1747   923\n   500   173   175    95    58    85   180   150    48    59    72    29\n    73    30     9    16     9    91    49    18    10    15    18    10\n    22     9     5     2    10    12     3     3     7     5     8     2\n     6     2    16     4     1     4     3     3     1     3     3     1\n    13    11  1298  1763   330   315   112    57    40    24    20     2\n     3    10    47    24     7     6   818   352   562    67    37   109\n    39     2     1     1    26     4     5    10    15    13     3   686\n  1008   182   241    70   134    24    76    43    21    15    12     8\n     8     9     8     9     7     3     6     4     2     9     6     2\n     5     7     3     6     1     1   480   527    12    11     7     6\n    16     1     2     2     1    19   229     2    32    12    11    19\n     2     2    66    13    80     2     8     6     1     6    12     1\n     3     4    13   107     2     1     1     2     6     4     9    14\n     6     2    39     3     2     2    11     2     2     1     2     1\n    41     2     4     2     5     4     2     2    13     4     8    28\n     1     1     1     1     1     2     1     1     1     2    35     1\n     2     1     1     1     2     4     1     9   515   196   134    27\n    20     2   312   229    70     6    15     2     3     1   115    68\n    23    11     6    41    10     2   179    73    84    13    44   169\n     1    45    96    31    21    47     5     1     1     2    89   121\n    66     6     6     1     3     8     3     3    42    88    12     3\n    59   172    41    24     4     6     7     4    18     5     2     1\n    50     4    13     1     1    17    39     3    11     8    35    16\n    33     5     1     4     1    53     2    30    45     8    53    11\n     2    43     1     5    20     6    14     6    30     1     5     1\n     3     1     7    33     9    33    29     1     4    32    33     3\n     4     2     2     2     2     2    28    14   736   293    80     6\n    19    26   337   585    17   172    89    68    29    12     9    12\n    14     2     1     4     1     3   204   207    58    77    31     4\n     3     3     1     1    21     1     4     3     4     9     1    16\n     5   344   246    48    56   106    15    11     6     9     3    13\n    20     6    22     7     1     1     5     1     2     9    15     7\n    11     7     4    21     1    11     2    11     1     9     4     1\n     1     8     5     6     2     1     5     1     1     1     1     4\n     1     1     1     2    72    26    13     9     8     5    18     3\n     3     2     7     6]\n[57638  4058  2064  2616  2011   894   638   276   349   259   204   306\n   145   541    44    55    83    66    49    26    14    54    42    67\n    82    42  1160  1355   653   844    39    39    24     7    22    21\n     1    11     2    12     9     4     1     1    19     2     1     5\n     2     6     2     3    98    13    17     5    18     6     2     7\n     6]\n"
     ],
     "output_type": "stream"
    }
   ],
   "source": [
    "num_sf = len(all_sfs.keys())\n",
    "num_fam = sum([len(all_sfs[k][1].keys()) for k in all_sfs])\n",
    "print(\"Num super families: \", num_sf)               \n",
    "print(\"Num families: \", num_fam)\n",
    "\n",
    "all_sf_fams_seq_counts = [list(all_sfs[k][1].values()) for k in all_sfs]\n",
    "fam_seq_counts = np.array(functools.reduce(operator.iconcat, all_sf_fams_seq_counts, []))\n",
    "sf_seq_counts = np.array([sum(sf_fams_seq_counts) for sf_fams_seq_counts in all_sf_fams_seq_counts])\n",
    "print(fam_seq_counts)\n",
    "print(sf_seq_counts)"
   ],
   "metadata": {
    "collapsed": false,
    "pycharm": {
     "name": "#%%\n",
     "is_executing": false
    }
   }
  },
  {
   "cell_type": "code",
   "execution_count": 19,
   "outputs": [
    {
     "name": "stdout",
     "text": [
      "415231268.0 1679985392.0 1264754124.0\n"
     ],
     "output_type": "stream"
    }
   ],
   "source": [
    "# Number of family pairs (top triangle only, excludes diagonal as well)\n",
    "num_fam_pairs = np.sum(fam_seq_counts * (fam_seq_counts - 1) / 2)\n",
    "# Number of super-family pairs (top triangle only, excludes diagonal as well). Includes family pairs too.\n",
    "num_sf_pairs = np.sum(sf_seq_counts * (sf_seq_counts - 1) / 2)\n",
    "num_sf_only_pairs = num_sf_pairs - num_fam_pairs\n",
    "print(num_fam_pairs, num_sf_pairs, num_sf_only_pairs)\n"
   ],
   "metadata": {
    "collapsed": false,
    "pycharm": {
     "name": "#%%\n",
     "is_executing": false
    }
   }
  },
  {
   "cell_type": "code",
   "execution_count": 20,
   "outputs": [
    {
     "name": "stdout",
     "text": [
      "0.1399242972201225\n0.5661201201150199\n"
     ],
     "output_type": "stream"
    }
   ],
   "source": [
    "all_pair_count = 77040*77039/2\n",
    "print(num_fam_pairs / all_pair_count)\n",
    "print(num_sf_pairs / all_pair_count)"
   ],
   "metadata": {
    "collapsed": false,
    "pycharm": {
     "name": "#%%\n",
     "is_executing": false
    }
   }
  },
  {
   "cell_type": "code",
   "execution_count": 28,
   "metadata": {
    "pycharm": {
     "is_executing": false
    }
   },
   "outputs": [],
   "source": [
    "num_A, num_B, num_C = 0, 0, 0\n",
    "with open(overlaps_fname) as csv_file:\n",
    "    csv_reader = csv.reader(csv_file, delimiter=',')\n",
    "    line_count = 0\n",
    "    for g_col, g_row in csv_reader:\n",
    "        g_col = int(g_col)\n",
    "        g_row = int(g_row)\n",
    "        if sf_names[g_col] == sf_names[g_row]:\n",
    "            num_B += 1\n",
    "            if fam_names[g_col] == fam_names[g_row]:\n",
    "                num_A += 1\n",
    "        else:\n",
    "            num_C += 1\n",
    "        line_count += 1\n",
    "            "
   ]
  },
  {
   "cell_type": "code",
   "execution_count": 29,
   "outputs": [
    {
     "name": "stdout",
     "text": [
      "100 100 0\n"
     ],
     "output_type": "stream"
    }
   ],
   "source": [
    "print(num_A, num_B, num_C)"
   ],
   "metadata": {
    "collapsed": false,
    "pycharm": {
     "name": "#%%\n",
     "is_executing": false
    }
   }
  },
  {
   "cell_type": "code",
   "execution_count": 24,
   "outputs": [
    {
     "name": "stdout",
     "text": [
      "2.40829647732598e-07 1.0\n"
     ],
     "output_type": "stream"
    }
   ],
   "source": [
    "recall = num_A / num_fam_pairs\n",
    "precision = (num_A + num_B) / (num_A+num_B+num_C)\n",
    "print(recall, precision)"
   ],
   "metadata": {
    "collapsed": false,
    "pycharm": {
     "name": "#%%\n",
     "is_executing": false
    }
   }
  },
  {
   "cell_type": "code",
   "execution_count": 26,
   "metadata": {
    "pycharm": {
     "is_executing": false
    }
   },
   "outputs": [
    {
     "data": {
      "text/plain": "<Figure row_size 432x288 with 1 Axes>",
      "image/png": "[encoded data removed]"
     },
     "metadata": {},
     "output_type": "display_data"
    }
   ],
   "source": [
    "#%matplotlib inline\n",
    "from matplotlib import pyplot as plt\n",
    "import numpy as np\n",
    "from matplotlib_venn import venn2, venn3, venn3_circles\n",
    "\n",
    "# First way to call the 2 group Venn diagram:\n",
    "venn2(subsets = (10, 5, 2), set_labels = ('Group A', 'Group B'))\n",
    "plt.show()"
   ]
  },
  {
   "cell_type": "code",
   "execution_count": 27,
   "outputs": [
    {
     "data": {
      "text/plain": "<Figure row_size 432x288 with 1 Axes>",
      "image/png": "[encoded data removed]"
     },
     "metadata": {},
     "output_type": "display_data"
    }
   ],
   "source": [
    "# Second way\n",
    "venn2([set(['A', 'B', 'C', 'D']), set(['D', 'E', 'F'])])\n",
    "plt.show()\n",
    "\n"
   ],
   "metadata": {
    "collapsed": false,
    "pycharm": {
     "name": "#%%\n",
     "is_executing": false
    }
   }
  },
  {
   "cell_type": "code",
   "execution_count": null,
   "outputs": [],
   "source": [
    "\n"
   ],
   "metadata": {
    "collapsed": false,
    "pycharm": {
     "name": "#%%\n"
    }
   }
  }
 ],
 "metadata": {
  "kernelspec": {
   "display_name": "Python 3",
   "language": "python",
   "name": "python3"
  },
  "language_info": {
   "codemirror_mode": {
    "name": "ipython",
    "version": 3
   },
   "file_extension": ".py",
   "mimetype": "text/x-python",
   "name": "python",
   "nbconvert_exporter": "python",
   "pygments_lexer": "ipython3",
   "version": "3.7.2"
  },
  "pycharm": {
   "stem_cell": {
    "cell_type": "raw",
    "source": [],
    "metadata": {
     "collapsed": false
    }
   }
  }
 },
 "nbformat": 4,
 "nbformat_minor": 2
}