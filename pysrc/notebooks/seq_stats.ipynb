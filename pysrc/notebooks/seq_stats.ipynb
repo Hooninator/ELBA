{
 "cells": [
  {
   "cell_type": "code",
   "execution_count": 3,
   "metadata": {
    "pycharm": {
     "is_executing": false
    }
   },
   "outputs": [],
   "source": [
    "from pathlib import Path\n",
    "import numpy as np\n",
    "import matplotlib.pyplot as plt\n",
    "import numpy as np\n",
    "from Bio import SeqIO\n",
    "from matplotlib.ticker import AutoMinorLocator"
   ]
  },
  {
   "cell_type": "code",
   "execution_count": 4,
   "metadata": {
    "pycharm": {
     "is_executing": false,
     "name": "#%%\n"
    }
   },
   "outputs": [],
   "source": [
    "dir = '/Users/esaliya/sali/data/cog/uniqs/shuffled'\n",
    "file = 'shuffled_1769181_unique_of_1785722_prot2003-2014.fa'\n",
    "\n",
    "f = f\"{dir}/{file}\"\n",
    "\n",
    "limit = 'inf'\n",
    "\n",
    "lengths = list()\n",
    "with open(f, \"r\") as infh:\n",
    "    count = 0\n",
    "    for record in SeqIO.parse(infh, \"fasta\"):\n",
    "        if limit != 'inf' and count == limit:\n",
    "            break\n",
    "        lengths.append(len(record))\n",
    "        count += 1\n",
    "\n",
    "tag = str(count)+\"_of_\" if limit != 'inf' else \"all\"\n",
    "of = f'{dir}/hist_of_{tag}_{Path(file).stem}.jpg'\n",
    "\n",
    "lengths = np.array(lengths)"
   ]
  },
  {
   "cell_type": "code",
   "execution_count": 5,
   "metadata": {
    "pycharm": {
     "is_executing": false,
     "name": "#%%\n"
    }
   },
   "outputs": [],
   "source": [
    "frq, edges = np.histogram(lengths, bins='auto')"
   ]
  },
  {
   "cell_type": "code",
   "execution_count": 43,
   "metadata": {
    "pycharm": {
     "is_executing": false,
     "name": "#%%\n"
    }
   },
   "outputs": [
    {
     "data": {
      "image/png": "[encoded data removed]",
      "text/plain": [
       "<Figure size 432x288 with 1 Axes>"
      ]
     },
     "metadata": {
      "needs_background": "light"
     },
     "output_type": "display_data"
    }
   ],
   "source": [
    "fig, ax = plt.subplots()\n",
    "ax.bar(edges[:-1], frq, width=np.diff(edges), ec=\"#5d5e69\", color=\"#5d5e69\", align=\"edge\")\n",
    "ax.xaxis.set_minor_locator(AutoMinorLocator())\n",
    "\n",
    "plt.show()"
   ]
  },
  {
   "cell_type": "code",
   "execution_count": 44,
   "metadata": {},
   "outputs": [
    {
     "name": "stdout",
     "output_type": "stream",
     "text": [
      "1766452\n"
     ]
    },
    {
     "data": {
      "image/png": "[encoded data removed]",
      "text/plain": [
       "<Figure size 432x288 with 1 Axes>"
      ]
     },
     "metadata": {
      "needs_background": "light"
     },
     "output_type": "display_data"
    }
   ],
   "source": [
    "lt2k = edges[edges<=2000]\n",
    "lt2kf = frq[:lt2k.shape[0]-1]\n",
    "print(np.sum(lt2kf))\n",
    "fig, ax = plt.subplots()\n",
    "ax.bar(lt2k[:-1], lt2kf, width=np.diff(lt2k), ec=\"#21a6ff\", color=\"#21a6ff\", align=\"edge\")\n",
    "ax.xaxis.set_minor_locator(AutoMinorLocator())\n",
    "\n",
    "plt.show()"
   ]
  },
  {
   "cell_type": "code",
   "execution_count": 45,
   "metadata": {},
   "outputs": [
    {
     "name": "stdout",
     "output_type": "stream",
     "text": [
      "1731330\n"
     ]
    },
    {
     "data": {
      "image/png": "[encoded data removed]",
      "text/plain": [
       "<Figure size 432x288 with 1 Axes>"
      ]
     },
     "metadata": {
      "needs_background": "light"
     },
     "output_type": "display_data"
    }
   ],
   "source": [
    "lt1k = edges[edges<=1000]\n",
    "lt1kf = frq[:lt1k.shape[0]-1]\n",
    "print(np.sum(lt1kf))\n",
    "fig, ax = plt.subplots()\n",
    "ax.bar(lt1k[:-1], lt1kf, width=np.diff(lt1k), ec=\"#4ef5a2\", color=\"#4ef5a2\", align=\"edge\")\n",
    "ax.xaxis.set_minor_locator(AutoMinorLocator())\n",
    "\n",
    "plt.show()"
   ]
  },
  {
   "cell_type": "code",
   "execution_count": 6,
   "metadata": {
    "pycharm": {
     "is_executing": false,
     "name": "#%%\n"
    }
   },
   "outputs": [],
   "source": [
    "plt.rcParams.update({'font.size': 30})\n",
    "plt.figure(figsize=(50, 20))\n",
    "n, bins, patches = plt.hist(lengths, bins='auto', edgecolor='black', log=False)"
   ]
  },
  {
   "cell_type": "code",
   "execution_count": 8,
   "metadata": {
    "pycharm": {
     "is_executing": false,
     "name": "#%%\n"
    }
   },
   "outputs": [],
   "source": [
    "patch_width = bins[1] - bins[0]\n",
    "plt.title(\"Histogram of Sequence Lengths\")\n",
    "plt.ylim(0.1, np.max(n) + 20)\n",
    "# plt.minorticks_on()\n",
    "plt.xlabel(\"Sequence Length\")\n",
    "plt.ylabel(\"# Sequences\")\n",
    "# ax = plt.gca()\n",
    "# ax.yaxis.grid(which='both')\n",
    "# ax.set_xticks(np.arange(bins[0]+(patch_width/2), bins[-1]+0.5, patch_width*1))\n",
    "# ax.set_xticklabels(np.stack((np.around(bins[0:len(bins) - 1], 2),\n",
    "#                              np.around(bins[0:len(bins) - 1] + patch_width, 2)), 0).T)\n",
    "# for i in range(len(n)):\n",
    "#     plt.text(bins[i] + 0.2, n[i] + np.log(2), str(int(n[i])))\n",
    "# plt.show()\n",
    "plt.savefig(of)"
   ]
  },
  {
   "cell_type": "code",
   "execution_count": null,
   "metadata": {
    "pycharm": {
     "name": "#%%\n"
    }
   },
   "outputs": [],
   "source": [
    "\n"
   ]
  }
 ],
 "metadata": {
  "kernelspec": {
   "display_name": "Python 3",
   "language": "python",
   "name": "python3"
  },
  "language_info": {
   "codemirror_mode": {
    "name": "ipython",
    "version": 3
   },
   "file_extension": ".py",
   "mimetype": "text/x-python",
   "name": "python",
   "nbconvert_exporter": "python",
   "pygments_lexer": "ipython3",
   "version": "3.7.2"
  },
  "pycharm": {
   "stem_cell": {
    "cell_type": "raw",
    "metadata": {
     "collapsed": false
    },
    "source": []
   }
  }
 },
 "nbformat": 4,
 "nbformat_minor": 1
}
